{
 "cells": [
  {
   "cell_type": "code",
   "execution_count": null,
   "id": "b1f34d77-a72c-4955-a984-010a491a3db2",
   "metadata": {},
   "outputs": [],
   "source": []
  }
 ],
 "metadata": {
  "kernelspec": {
   "display_name": "",
   "name": ""
  },
  "language_info": {
   "name": ""
  }
 },
 "nbformat": 4,
 "nbformat_minor": 5
}
