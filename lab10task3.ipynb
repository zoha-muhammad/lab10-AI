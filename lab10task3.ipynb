{
 "cells": [
  {
   "cell_type": "code",
   "execution_count": 1,
   "id": "2f7c226f-c0a2-42b7-9341-033cbd2c8281",
   "metadata": {},
   "outputs": [
    {
     "ename": "IndentationError",
     "evalue": "expected an indented block after 'for' statement on line 5 (3405860461.py, line 6)",
     "output_type": "error",
     "traceback": [
      "\u001b[1;36m  Cell \u001b[1;32mIn[1], line 6\u001b[1;36m\u001b[0m\n\u001b[1;33m    print(f\"Dear {guest}, you are still invited to dinner!\")\u001b[0m\n\u001b[1;37m    ^\u001b[0m\n\u001b[1;31mIndentationError\u001b[0m\u001b[1;31m:\u001b[0m expected an indented block after 'for' statement on line 5\n"
     ]
    }
   ],
   "source": [
    "dinner_guests = [\"Maryam Tahir\", \"Malaika Gohar\", \"Kinza Arshad\"]\n",
    "print(f\"Unfortunately, {dinner_guests[1]} can't make it to dinner.\")\n",
    "dinner_guests[1] = \"Zeenat Khan\"\n",
    " \n",
    "for guest in dinner_guests:\n",
    "print(f\"Dear {guest}, you are still invited to dinner!\")\n"
   ]
  },
  {
   "cell_type": "code",
   "execution_count": null,
   "id": "a552c7be-8a4b-4815-a3ef-96db9d3ff520",
   "metadata": {},
   "outputs": [],
   "source": []
  }
 ],
 "metadata": {
  "kernelspec": {
   "display_name": "Python 3 (ipykernel)",
   "language": "python",
   "name": "python3"
  },
  "language_info": {
   "codemirror_mode": {
    "name": "ipython",
    "version": 3
   },
   "file_extension": ".py",
   "mimetype": "text/x-python",
   "name": "python",
   "nbconvert_exporter": "python",
   "pygments_lexer": "ipython3",
   "version": "3.12.3"
  }
 },
 "nbformat": 4,
 "nbformat_minor": 5
}
