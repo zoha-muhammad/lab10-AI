{
 "cells": [
  {
   "cell_type": "code",
   "execution_count": 1,
   "id": "785b8031-86f0-4bbb-a7df-dcb1e97d17ba",
   "metadata": {},
   "outputs": [
    {
     "ename": "SyntaxError",
     "evalue": "invalid syntax (1754807996.py, line 14)",
     "output_type": "error",
     "traceback": [
      "\u001b[1;36m  Cell \u001b[1;32mIn[1], line 14\u001b[1;36m\u001b[0m\n\u001b[1;33m    emp1 = Employee(\"Sara\", 50000) emp2 = Employee(\"Ayna\", 60000)\u001b[0m\n\u001b[1;37m                                   ^\u001b[0m\n\u001b[1;31mSyntaxError\u001b[0m\u001b[1;31m:\u001b[0m invalid syntax\n"
     ]
    }
   ],
   "source": [
    "class Employee: employee_count = 0\n",
    "def __init__(self, empName, salary):\n",
    "    self.empName = empName\n",
    "    self.salary = salary\n",
    "    Employee.employee_count += 1\n",
    "\n",
    "@staticmethod\n",
    "def displayCount():\n",
    "    print(f\"Total Employees: {Employee.employee_count}\")\n",
    "\n",
    "def displayEmployee(self):\n",
    "    print(f\"Name: {self.empName}, Salary: {self.salary}\")\n",
    " \n",
    "emp1 = Employee(\"Sara\", 50000) emp2 = Employee(\"Ayna\", 60000)\n",
    "emp1.displayEmployee() emp2.displayEmployee() Employee.displayCount()\n",
    "\n"
   ]
  },
  {
   "cell_type": "code",
   "execution_count": null,
   "id": "b39ffe98-13fb-4e16-9d30-4cd7e8be6f1a",
   "metadata": {},
   "outputs": [],
   "source": []
  },
  {
   "cell_type": "code",
   "execution_count": null,
   "id": "e3400d9f-8aba-4eee-8075-ab80c0ab5779",
   "metadata": {},
   "outputs": [],
   "source": []
  }
 ],
 "metadata": {
  "kernelspec": {
   "display_name": "Python 3 (ipykernel)",
   "language": "python",
   "name": "python3"
  },
  "language_info": {
   "codemirror_mode": {
    "name": "ipython",
    "version": 3
   },
   "file_extension": ".py",
   "mimetype": "text/x-python",
   "name": "python",
   "nbconvert_exporter": "python",
   "pygments_lexer": "ipython3",
   "version": "3.12.3"
  }
 },
 "nbformat": 4,
 "nbformat_minor": 5
}
