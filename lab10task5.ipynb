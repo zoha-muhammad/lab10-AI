{
 "cells": [
  {
   "cell_type": "code",
   "execution_count": null,
   "id": "a9cd2f24-f41d-4edc-904d-bf395d7afe33",
   "metadata": {},
   "outputs": [],
   "source": []
  }
 ],
 "metadata": {
  "kernelspec": {
   "display_name": "",
   "name": ""
  },
  "language_info": {
   "name": ""
  }
 },
 "nbformat": 4,
 "nbformat_minor": 5
}
