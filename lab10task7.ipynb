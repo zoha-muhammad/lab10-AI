{
 "cells": [
  {
   "cell_type": "code",
   "execution_count": null,
   "id": "8ecd52bd-dff3-4228-82fc-c85f0d5aa7bd",
   "metadata": {},
   "outputs": [],
   "source": []
  }
 ],
 "metadata": {
  "kernelspec": {
   "display_name": "",
   "name": ""
  },
  "language_info": {
   "name": ""
  }
 },
 "nbformat": 4,
 "nbformat_minor": 5
}
