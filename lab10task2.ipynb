{
 "cells": [
  {
   "cell_type": "code",
   "execution_count": 1,
   "id": "a742ce51-492d-4250-96b5-491f16900e2b",
   "metadata": {},
   "outputs": [
    {
     "name": "stdout",
     "output_type": "stream",
     "text": [
      "Dear Fiza Khan, you are cordially invited to dinner!\n",
      "Dear Huda Zahid, you are cordially invited to dinner!\n",
      "Dear Zainab Khurram, you are cordially invited to dinner!\n"
     ]
    }
   ],
   "source": [
    "dinner_guests = [\"Fiza Khan\", \"Huda Zahid\", \"Zainab Khurram\"]\n",
    "for guest in dinner_guests:\n",
    "    print(f\"Dear {guest}, you are cordially invited to dinner!\")\t\t\n",
    "\n",
    "\n"
   ]
  },
  {
   "cell_type": "code",
   "execution_count": null,
   "id": "2cc6148f-1869-4b67-b283-445963457385",
   "metadata": {},
   "outputs": [],
   "source": []
  }
 ],
 "metadata": {
  "kernelspec": {
   "display_name": "Python 3 (ipykernel)",
   "language": "python",
   "name": "python3"
  },
  "language_info": {
   "codemirror_mode": {
    "name": "ipython",
    "version": 3
   },
   "file_extension": ".py",
   "mimetype": "text/x-python",
   "name": "python",
   "nbconvert_exporter": "python",
   "pygments_lexer": "ipython3",
   "version": "3.12.3"
  }
 },
 "nbformat": 4,
 "nbformat_minor": 5
}
